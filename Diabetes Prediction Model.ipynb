{
  "nbformat": 4,
  "nbformat_minor": 0,
  "metadata": {
    "colab": {
      "name": "ExposysIntern.ipynb",
      "provenance": [],
      "collapsed_sections": []
    },
    "kernelspec": {
      "name": "python3",
      "display_name": "Python 3"
    },
    "language_info": {
      "name": "python"
    },
    "accelerator": "GPU"
  },
  "cells": [
    {
      "cell_type": "markdown",
      "metadata": {
        "id": "PludMgEq3pc5"
      },
      "source": [
        "# To predict diabetes using PIMA diabetes dataset"
      ]
    },
    {
      "cell_type": "markdown",
      "metadata": {
        "id": "nocA4yqtRbju"
      },
      "source": [
        "**Importing the required libraries**"
      ]
    },
    {
      "cell_type": "code",
      "metadata": {
        "id": "JnkfH_gv34Cl"
      },
      "source": [
        "import pandas as pd\n",
        "import numpy as np\n",
        "import matplotlib.pyplot as plt\n",
        "%matplotlib inline"
      ],
      "execution_count": 32,
      "outputs": []
    },
    {
      "cell_type": "markdown",
      "metadata": {
        "id": "y950EWPORj56"
      },
      "source": [
        "**Importing the dataset from Google drive**"
      ]
    },
    {
      "cell_type": "code",
      "metadata": {
        "colab": {
          "base_uri": "https://localhost:8080/"
        },
        "id": "DRkPqmzCOpcQ",
        "outputId": "0fed3497-f14f-4063-ba41-8b00cf2e8be2"
      },
      "source": [
        "from google.colab import drive\n",
        "drive.mount ('/content/drive')"
      ],
      "execution_count": 33,
      "outputs": [
        {
          "output_type": "stream",
          "text": [
            "Drive already mounted at /content/drive; to attempt to forcibly remount, call drive.mount(\"/content/drive\", force_remount=True).\n"
          ],
          "name": "stdout"
        }
      ]
    },
    {
      "cell_type": "code",
      "metadata": {
        "colab": {
          "base_uri": "https://localhost:8080/"
        },
        "id": "lXis4LwaQu9-",
        "outputId": "d4a8137d-b800-42de-f90b-ef7d6e7577b9"
      },
      "source": [
        "data = pd.read_csv('/content/drive/MyDrive/ML Datasets/diabetes.csv')\n",
        "data.shape"
      ],
      "execution_count": 34,
      "outputs": [
        {
          "output_type": "execute_result",
          "data": {
            "text/plain": [
              "(768, 9)"
            ]
          },
          "metadata": {
            "tags": []
          },
          "execution_count": 34
        }
      ]
    },
    {
      "cell_type": "markdown",
      "metadata": {
        "id": "xumtZp2xVeeq"
      },
      "source": [
        "**Pre-processing the data**"
      ]
    },
    {
      "cell_type": "code",
      "metadata": {
        "colab": {
          "base_uri": "https://localhost:8080/",
          "height": 195
        },
        "id": "YUQsEhQLSndQ",
        "outputId": "a115d6de-600e-4181-a8bd-819849fd25ff"
      },
      "source": [
        "data.head(5)"
      ],
      "execution_count": 35,
      "outputs": [
        {
          "output_type": "execute_result",
          "data": {
            "text/html": [
              "<div>\n",
              "<style scoped>\n",
              "    .dataframe tbody tr th:only-of-type {\n",
              "        vertical-align: middle;\n",
              "    }\n",
              "\n",
              "    .dataframe tbody tr th {\n",
              "        vertical-align: top;\n",
              "    }\n",
              "\n",
              "    .dataframe thead th {\n",
              "        text-align: right;\n",
              "    }\n",
              "</style>\n",
              "<table border=\"1\" class=\"dataframe\">\n",
              "  <thead>\n",
              "    <tr style=\"text-align: right;\">\n",
              "      <th></th>\n",
              "      <th>Pregnancies</th>\n",
              "      <th>Glucose</th>\n",
              "      <th>BloodPressure</th>\n",
              "      <th>SkinThickness</th>\n",
              "      <th>Insulin</th>\n",
              "      <th>BMI</th>\n",
              "      <th>DiabetesPedigreeFunction</th>\n",
              "      <th>Age</th>\n",
              "      <th>Outcome</th>\n",
              "    </tr>\n",
              "  </thead>\n",
              "  <tbody>\n",
              "    <tr>\n",
              "      <th>0</th>\n",
              "      <td>6</td>\n",
              "      <td>148</td>\n",
              "      <td>72</td>\n",
              "      <td>35</td>\n",
              "      <td>0</td>\n",
              "      <td>33.6</td>\n",
              "      <td>0.627</td>\n",
              "      <td>50</td>\n",
              "      <td>1</td>\n",
              "    </tr>\n",
              "    <tr>\n",
              "      <th>1</th>\n",
              "      <td>1</td>\n",
              "      <td>85</td>\n",
              "      <td>66</td>\n",
              "      <td>29</td>\n",
              "      <td>0</td>\n",
              "      <td>26.6</td>\n",
              "      <td>0.351</td>\n",
              "      <td>31</td>\n",
              "      <td>0</td>\n",
              "    </tr>\n",
              "    <tr>\n",
              "      <th>2</th>\n",
              "      <td>8</td>\n",
              "      <td>183</td>\n",
              "      <td>64</td>\n",
              "      <td>0</td>\n",
              "      <td>0</td>\n",
              "      <td>23.3</td>\n",
              "      <td>0.672</td>\n",
              "      <td>32</td>\n",
              "      <td>1</td>\n",
              "    </tr>\n",
              "    <tr>\n",
              "      <th>3</th>\n",
              "      <td>1</td>\n",
              "      <td>89</td>\n",
              "      <td>66</td>\n",
              "      <td>23</td>\n",
              "      <td>94</td>\n",
              "      <td>28.1</td>\n",
              "      <td>0.167</td>\n",
              "      <td>21</td>\n",
              "      <td>0</td>\n",
              "    </tr>\n",
              "    <tr>\n",
              "      <th>4</th>\n",
              "      <td>0</td>\n",
              "      <td>137</td>\n",
              "      <td>40</td>\n",
              "      <td>35</td>\n",
              "      <td>168</td>\n",
              "      <td>43.1</td>\n",
              "      <td>2.288</td>\n",
              "      <td>33</td>\n",
              "      <td>1</td>\n",
              "    </tr>\n",
              "  </tbody>\n",
              "</table>\n",
              "</div>"
            ],
            "text/plain": [
              "   Pregnancies  Glucose  BloodPressure  ...  DiabetesPedigreeFunction  Age  Outcome\n",
              "0            6      148             72  ...                     0.627   50        1\n",
              "1            1       85             66  ...                     0.351   31        0\n",
              "2            8      183             64  ...                     0.672   32        1\n",
              "3            1       89             66  ...                     0.167   21        0\n",
              "4            0      137             40  ...                     2.288   33        1\n",
              "\n",
              "[5 rows x 9 columns]"
            ]
          },
          "metadata": {
            "tags": []
          },
          "execution_count": 35
        }
      ]
    },
    {
      "cell_type": "code",
      "metadata": {
        "colab": {
          "base_uri": "https://localhost:8080/"
        },
        "id": "DY2moopJUBVz",
        "outputId": "6298f6b2-4837-45a1-8dbc-2f02b5c48fff"
      },
      "source": [
        "diabetes_true_count= len(data.loc[data['Outcome'] == 1])\n",
        "diabetes_false_count= len(data.loc[data['Outcome'] == 0])\n",
        "(diabetes_true_count, diabetes_false_count)"
      ],
      "execution_count": 36,
      "outputs": [
        {
          "output_type": "execute_result",
          "data": {
            "text/plain": [
              "(268, 500)"
            ]
          },
          "metadata": {
            "tags": []
          },
          "execution_count": 36
        }
      ]
    },
    {
      "cell_type": "code",
      "metadata": {
        "colab": {
          "base_uri": "https://localhost:8080/"
        },
        "id": "0giC3derSjkp",
        "outputId": "f554f053-fd3f-49c8-e0c3-b592109c75ed"
      },
      "source": [
        "data.isnull().values.any()"
      ],
      "execution_count": 37,
      "outputs": [
        {
          "output_type": "execute_result",
          "data": {
            "text/plain": [
              "False"
            ]
          },
          "metadata": {
            "tags": []
          },
          "execution_count": 37
        }
      ]
    },
    {
      "cell_type": "code",
      "metadata": {
        "colab": {
          "base_uri": "https://localhost:8080/",
          "height": 314
        },
        "id": "SV3cAwIDUbs-",
        "outputId": "b66b7589-5cbf-4553-bffb-550600803c15"
      },
      "source": [
        "data.corr()"
      ],
      "execution_count": 38,
      "outputs": [
        {
          "output_type": "execute_result",
          "data": {
            "text/html": [
              "<div>\n",
              "<style scoped>\n",
              "    .dataframe tbody tr th:only-of-type {\n",
              "        vertical-align: middle;\n",
              "    }\n",
              "\n",
              "    .dataframe tbody tr th {\n",
              "        vertical-align: top;\n",
              "    }\n",
              "\n",
              "    .dataframe thead th {\n",
              "        text-align: right;\n",
              "    }\n",
              "</style>\n",
              "<table border=\"1\" class=\"dataframe\">\n",
              "  <thead>\n",
              "    <tr style=\"text-align: right;\">\n",
              "      <th></th>\n",
              "      <th>Pregnancies</th>\n",
              "      <th>Glucose</th>\n",
              "      <th>BloodPressure</th>\n",
              "      <th>SkinThickness</th>\n",
              "      <th>Insulin</th>\n",
              "      <th>BMI</th>\n",
              "      <th>DiabetesPedigreeFunction</th>\n",
              "      <th>Age</th>\n",
              "      <th>Outcome</th>\n",
              "    </tr>\n",
              "  </thead>\n",
              "  <tbody>\n",
              "    <tr>\n",
              "      <th>Pregnancies</th>\n",
              "      <td>1.000000</td>\n",
              "      <td>0.129459</td>\n",
              "      <td>0.141282</td>\n",
              "      <td>-0.081672</td>\n",
              "      <td>-0.073535</td>\n",
              "      <td>0.017683</td>\n",
              "      <td>-0.033523</td>\n",
              "      <td>0.544341</td>\n",
              "      <td>0.221898</td>\n",
              "    </tr>\n",
              "    <tr>\n",
              "      <th>Glucose</th>\n",
              "      <td>0.129459</td>\n",
              "      <td>1.000000</td>\n",
              "      <td>0.152590</td>\n",
              "      <td>0.057328</td>\n",
              "      <td>0.331357</td>\n",
              "      <td>0.221071</td>\n",
              "      <td>0.137337</td>\n",
              "      <td>0.263514</td>\n",
              "      <td>0.466581</td>\n",
              "    </tr>\n",
              "    <tr>\n",
              "      <th>BloodPressure</th>\n",
              "      <td>0.141282</td>\n",
              "      <td>0.152590</td>\n",
              "      <td>1.000000</td>\n",
              "      <td>0.207371</td>\n",
              "      <td>0.088933</td>\n",
              "      <td>0.281805</td>\n",
              "      <td>0.041265</td>\n",
              "      <td>0.239528</td>\n",
              "      <td>0.065068</td>\n",
              "    </tr>\n",
              "    <tr>\n",
              "      <th>SkinThickness</th>\n",
              "      <td>-0.081672</td>\n",
              "      <td>0.057328</td>\n",
              "      <td>0.207371</td>\n",
              "      <td>1.000000</td>\n",
              "      <td>0.436783</td>\n",
              "      <td>0.392573</td>\n",
              "      <td>0.183928</td>\n",
              "      <td>-0.113970</td>\n",
              "      <td>0.074752</td>\n",
              "    </tr>\n",
              "    <tr>\n",
              "      <th>Insulin</th>\n",
              "      <td>-0.073535</td>\n",
              "      <td>0.331357</td>\n",
              "      <td>0.088933</td>\n",
              "      <td>0.436783</td>\n",
              "      <td>1.000000</td>\n",
              "      <td>0.197859</td>\n",
              "      <td>0.185071</td>\n",
              "      <td>-0.042163</td>\n",
              "      <td>0.130548</td>\n",
              "    </tr>\n",
              "    <tr>\n",
              "      <th>BMI</th>\n",
              "      <td>0.017683</td>\n",
              "      <td>0.221071</td>\n",
              "      <td>0.281805</td>\n",
              "      <td>0.392573</td>\n",
              "      <td>0.197859</td>\n",
              "      <td>1.000000</td>\n",
              "      <td>0.140647</td>\n",
              "      <td>0.036242</td>\n",
              "      <td>0.292695</td>\n",
              "    </tr>\n",
              "    <tr>\n",
              "      <th>DiabetesPedigreeFunction</th>\n",
              "      <td>-0.033523</td>\n",
              "      <td>0.137337</td>\n",
              "      <td>0.041265</td>\n",
              "      <td>0.183928</td>\n",
              "      <td>0.185071</td>\n",
              "      <td>0.140647</td>\n",
              "      <td>1.000000</td>\n",
              "      <td>0.033561</td>\n",
              "      <td>0.173844</td>\n",
              "    </tr>\n",
              "    <tr>\n",
              "      <th>Age</th>\n",
              "      <td>0.544341</td>\n",
              "      <td>0.263514</td>\n",
              "      <td>0.239528</td>\n",
              "      <td>-0.113970</td>\n",
              "      <td>-0.042163</td>\n",
              "      <td>0.036242</td>\n",
              "      <td>0.033561</td>\n",
              "      <td>1.000000</td>\n",
              "      <td>0.238356</td>\n",
              "    </tr>\n",
              "    <tr>\n",
              "      <th>Outcome</th>\n",
              "      <td>0.221898</td>\n",
              "      <td>0.466581</td>\n",
              "      <td>0.065068</td>\n",
              "      <td>0.074752</td>\n",
              "      <td>0.130548</td>\n",
              "      <td>0.292695</td>\n",
              "      <td>0.173844</td>\n",
              "      <td>0.238356</td>\n",
              "      <td>1.000000</td>\n",
              "    </tr>\n",
              "  </tbody>\n",
              "</table>\n",
              "</div>"
            ],
            "text/plain": [
              "                          Pregnancies   Glucose  ...       Age   Outcome\n",
              "Pregnancies                  1.000000  0.129459  ...  0.544341  0.221898\n",
              "Glucose                      0.129459  1.000000  ...  0.263514  0.466581\n",
              "BloodPressure                0.141282  0.152590  ...  0.239528  0.065068\n",
              "SkinThickness               -0.081672  0.057328  ... -0.113970  0.074752\n",
              "Insulin                     -0.073535  0.331357  ... -0.042163  0.130548\n",
              "BMI                          0.017683  0.221071  ...  0.036242  0.292695\n",
              "DiabetesPedigreeFunction    -0.033523  0.137337  ...  0.033561  0.173844\n",
              "Age                          0.544341  0.263514  ...  1.000000  0.238356\n",
              "Outcome                      0.221898  0.466581  ...  0.238356  1.000000\n",
              "\n",
              "[9 rows x 9 columns]"
            ]
          },
          "metadata": {
            "tags": []
          },
          "execution_count": 38
        }
      ]
    },
    {
      "cell_type": "markdown",
      "metadata": {
        "id": "4ngwlCUX4iYi"
      },
      "source": [
        "**Splitting into Train and Test data**"
      ]
    },
    {
      "cell_type": "code",
      "metadata": {
        "id": "8lcxERMh4t8y"
      },
      "source": [
        "from sklearn.model_selection import train_test_split\n",
        "feature_columns=['Pregnancies', 'Glucose', 'BloodPressure', 'SkinThickness', 'Insulin', 'BMI', 'DiabetesPedigreeFunction', 'Age']\n",
        "predicted_class= ['Outcome']\n",
        "X = data[feature_columns].values\n",
        "y = data[predicted_class].values\n",
        "X_train, X_test, y_train, y_test = train_test_split(X, y, test_size=0.30, random_state = 10)"
      ],
      "execution_count": 39,
      "outputs": []
    },
    {
      "cell_type": "markdown",
      "metadata": {
        "id": "JhlAGN9h6xww"
      },
      "source": [
        "**Checking for missing (zero) values**"
      ]
    },
    {
      "cell_type": "code",
      "metadata": {
        "colab": {
          "base_uri": "https://localhost:8080/"
        },
        "id": "TdgpdQIqWMBD",
        "outputId": "da660271-1856-416d-b0b1-00f3f42c2715"
      },
      "source": [
        "print(\"no of rows missing from Glucose Concentration: {0}\".format(len(data.loc[data['Glucose'] == 0])))\n",
        "print(\"no of rows missing from Blood Pressure: {0}\".format(len(data.loc[data['BloodPressure'] == 0])))\n",
        "print(\"no of rows missing from Skin Thickness: {0}\".format(len(data.loc[data['SkinThickness'] == 0])))\n",
        "print(\"no of rows missing from Insulin: {0}\".format(len(data.loc[data['Insulin'] == 0])))\n",
        "print(\"no of rows missing from BMI: {0}\".format(len(data.loc[data['BMI'] == 0])))\n",
        "print(\"no of rows missing from DPF: {0}\".format(len(data.loc[data['DiabetesPedigreeFunction'] == 0])))\n",
        "print(\"no of rows missing from Age: {0}\".format(len(data.loc[data['Age'] == 0])))"
      ],
      "execution_count": 40,
      "outputs": [
        {
          "output_type": "stream",
          "text": [
            "no of rows missing from Glucose Concentration: 5\n",
            "no of rows missing from Blood Pressure: 35\n",
            "no of rows missing from Skin Thickness: 227\n",
            "no of rows missing from Insulin: 374\n",
            "no of rows missing from BMI: 11\n",
            "no of rows missing from DPF: 0\n",
            "no of rows missing from Age: 0\n"
          ],
          "name": "stdout"
        }
      ]
    },
    {
      "cell_type": "markdown",
      "metadata": {
        "id": "FG3mJPnV7R_n"
      },
      "source": [
        "**Filling in missing (zero) values with mean**"
      ]
    },
    {
      "cell_type": "code",
      "metadata": {
        "id": "iQOBxHzj19nr"
      },
      "source": [
        "from sklearn.impute import SimpleImputer\n",
        "fill_values = SimpleImputer(missing_values=0, strategy=\"mean\")\n",
        "X_train = fill_values.fit_transform(X_train)\n",
        "X_test = fill_values.fit_transform(X_test)"
      ],
      "execution_count": 41,
      "outputs": []
    },
    {
      "cell_type": "markdown",
      "metadata": {
        "id": "-nSkzy54JJqg"
      },
      "source": [
        "**Applying different algorithms and checking their accuracies**"
      ]
    },
    {
      "cell_type": "code",
      "metadata": {
        "colab": {
          "base_uri": "https://localhost:8080/"
        },
        "id": "lhnvWwGKHc7A",
        "outputId": "9ab7414a-2aec-482f-c8f5-9de8df601dc9"
      },
      "source": [
        "from sklearn.ensemble import BaggingClassifier\n",
        "from sklearn.tree import DecisionTreeClassifier\n",
        "from sklearn.model_selection import cross_val_score\n",
        "bagging = BaggingClassifier(base_estimator= DecisionTreeClassifier(), max_samples = 0.5, max_features = 0.5,bootstrap = False, bootstrap_features = False)\n",
        "bagging.fit(X_train, y_train.ravel())\n",
        "bg_pred_diabetes = bagging.predict(X_test)\n",
        "bg_dt_score = bagging.score(X_test, y_test)\n",
        "print(\"Accuracy: %.3f\" % bagging.score(X_test, y_test))"
      ],
      "execution_count": 42,
      "outputs": [
        {
          "output_type": "stream",
          "text": [
            "Accuracy: 0.719\n"
          ],
          "name": "stdout"
        }
      ]
    },
    {
      "cell_type": "code",
      "metadata": {
        "colab": {
          "base_uri": "https://localhost:8080/"
        },
        "id": "aP4mRqzIIMcl",
        "outputId": "02966b19-6cde-4db9-f870-ea2f5ed2cca1"
      },
      "source": [
        "from sklearn.neighbors import KNeighborsClassifier\n",
        "bagging = BaggingClassifier(base_estimator= KNeighborsClassifier(), max_samples = 0.5, max_features = 0.5, bootstrap = False, bootstrap_features = False)\n",
        "bagging.fit(X_train, y_train.ravel())\n",
        "bg_pred_diabetes = bagging.predict(X_test)\n",
        "bg_score = bagging.score(X_test, y_test)\n",
        "print(\"Accuracy: %.3f\" % bagging.score(X_test, y_test))"
      ],
      "execution_count": 43,
      "outputs": [
        {
          "output_type": "stream",
          "text": [
            "Accuracy: 0.710\n"
          ],
          "name": "stdout"
        }
      ]
    },
    {
      "cell_type": "code",
      "metadata": {
        "colab": {
          "base_uri": "https://localhost:8080/"
        },
        "id": "lMwHI8yeAYCk",
        "outputId": "fa1cfb02-bc54-4826-9e6f-fe36d8c20890"
      },
      "source": [
        "from sklearn.ensemble import AdaBoostClassifier\n",
        "ab_clf = AdaBoostClassifier(base_estimator=DecisionTreeClassifier(), n_estimators=100, learning_rate=0.5, random_state=100)\n",
        "ab_clf.fit(X_train, y_train.ravel())\n",
        "ab_pred_diabetes = ab_clf.predict(X_test)\n",
        "ab_clf_score = ab_clf.score(X_test, y_test)\n",
        "print(\"Accuracy: %.3f\" % ab_clf.score(X_test, y_test))"
      ],
      "execution_count": 44,
      "outputs": [
        {
          "output_type": "stream",
          "text": [
            "Accuracy: 0.701\n"
          ],
          "name": "stdout"
        }
      ]
    },
    {
      "cell_type": "code",
      "metadata": {
        "colab": {
          "base_uri": "https://localhost:8080/"
        },
        "id": "Fq_UD3i54h-r",
        "outputId": "6d93e91a-ced1-49d8-f841-c4e0040ce9d6"
      },
      "source": [
        "from sklearn.ensemble import RandomForestClassifier\n",
        "rf_clf = RandomForestClassifier(random_state=10)\n",
        "rf_clf.fit(X_train, y_train.ravel())\n",
        "predict_train_data = rf_clf.predict(X_test)\n",
        "rf_clf_score = rf_clf.score(X_test, y_test)\n",
        "print(\"Accuracy: %.3f\" % rf_clf.score(X_test, y_test))"
      ],
      "execution_count": 45,
      "outputs": [
        {
          "output_type": "stream",
          "text": [
            "Accuracy: 0.766\n"
          ],
          "name": "stdout"
        }
      ]
    },
    {
      "cell_type": "code",
      "metadata": {
        "colab": {
          "base_uri": "https://localhost:8080/"
        },
        "id": "moocCQou9X9g",
        "outputId": "38d5f31c-1d3f-4371-9c20-793dacc2b196"
      },
      "source": [
        "from sklearn.neural_network import MLPClassifier\n",
        "mlp = MLPClassifier(hidden_layer_sizes=(1000, 300, 300), solver='adam', shuffle=False, tol = 0.0001)\n",
        "mlp.fit(X_train, y_train.ravel())\n",
        "mlp_pred_diabetes = mlp.predict(X_test)\n",
        "mlp_score = mlp.score(X_test, y_test)\n",
        "print(\"Accuracy = {0:.3f}\".format(mlp.score(X_test, y_test)))"
      ],
      "execution_count": 46,
      "outputs": [
        {
          "output_type": "stream",
          "text": [
            "Accuracy = 0.701\n"
          ],
          "name": "stdout"
        }
      ]
    }
  ]
}